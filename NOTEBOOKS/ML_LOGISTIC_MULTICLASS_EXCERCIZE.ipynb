{
 "cells": [
  {
   "cell_type": "markdown",
   "id": "bc2b21f7",
   "metadata": {},
   "source": [
    "**Exercise**\n",
    "\n",
    "Use sklearn.datasets iris flower dataset to train your model using logistic regression. You need to figure out accuracy of your model and use that to predict different samples in your test dataset. In iris dataset there are 150 samples containing following features,\n",
    "\n",
    "1. Sepal Length\n",
    "2. Sepal Width\n",
    "3. Petal Length\n",
    "4. Petal Width\n",
    "\n",
    "Using above 4 features you will clasify a flower in one of the three categories,\n",
    "\n",
    "1. Setosa\n",
    "2. Versicolour\n",
    "3. Virginica"
   ]
  },
  {
   "cell_type": "code",
   "execution_count": 22,
   "id": "566d8fe5",
   "metadata": {},
   "outputs": [],
   "source": [
    "import pandas as pd\n",
    "import numpy as np\n",
    "import matplotlib.pyplot as plt\n",
    "\n",
    "# import IRIS dataset from sklearn\n",
    "from sklearn.datasets import load_iris\n",
    "\n",
    "from sklearn.model_selection import train_test_split\n",
    "from sklearn.linear_model import LogisticRegression\n",
    "from sklearn.metrics import confusion_matrix\n",
    "\n",
    "import seaborn as sn"
   ]
  },
  {
   "cell_type": "code",
   "execution_count": 6,
   "id": "620e22e3",
   "metadata": {},
   "outputs": [],
   "source": [
    "%matplotlib inline"
   ]
  },
  {
   "cell_type": "markdown",
   "id": "27800d09",
   "metadata": {},
   "source": [
    "## CONTAIN THE DATASET INTO DATAFRAME"
   ]
  },
  {
   "cell_type": "code",
   "execution_count": 8,
   "id": "142c8264",
   "metadata": {},
   "outputs": [],
   "source": [
    "iris = load_iris()"
   ]
  },
  {
   "cell_type": "code",
   "execution_count": 10,
   "id": "cdb6a9e6",
   "metadata": {},
   "outputs": [
    {
     "data": {
      "text/plain": [
       "['DESCR',\n",
       " 'data',\n",
       " 'feature_names',\n",
       " 'filename',\n",
       " 'frame',\n",
       " 'target',\n",
       " 'target_names']"
      ]
     },
     "execution_count": 10,
     "metadata": {},
     "output_type": "execute_result"
    }
   ],
   "source": [
    "dir(iris)"
   ]
  },
  {
   "cell_type": "markdown",
   "id": "86392e09",
   "metadata": {},
   "source": [
    "PICKING OUT RANDOM DATA"
   ]
  },
  {
   "cell_type": "code",
   "execution_count": 11,
   "id": "d2c17f63",
   "metadata": {},
   "outputs": [
    {
     "data": {
      "text/plain": [
       "array([4.9, 3. , 1.4, 0.2])"
      ]
     },
     "execution_count": 11,
     "metadata": {},
     "output_type": "execute_result"
    }
   ],
   "source": [
    "iris.data[1]"
   ]
  },
  {
   "cell_type": "markdown",
   "id": "08992e35",
   "metadata": {},
   "source": [
    "### IRIS FEATURE SPECIFICATIONS"
   ]
  },
  {
   "cell_type": "code",
   "execution_count": 13,
   "id": "e3ff206f",
   "metadata": {},
   "outputs": [
    {
     "data": {
      "text/plain": [
       "['sepal length (cm)',\n",
       " 'sepal width (cm)',\n",
       " 'petal length (cm)',\n",
       " 'petal width (cm)']"
      ]
     },
     "execution_count": 13,
     "metadata": {},
     "output_type": "execute_result"
    }
   ],
   "source": [
    "iris.feature_names"
   ]
  },
  {
   "cell_type": "markdown",
   "id": "088f8814",
   "metadata": {},
   "source": [
    "## SPLIT DATA INTO TRAINING AND TESTING SET"
   ]
  },
  {
   "cell_type": "code",
   "execution_count": 15,
   "id": "f3eea8d5",
   "metadata": {},
   "outputs": [],
   "source": [
    "X_train, X_test, y_train, y_test = train_test_split(iris.data,iris.target,test_size=0.2)"
   ]
  },
  {
   "cell_type": "code",
   "execution_count": 16,
   "id": "d7ccc65c",
   "metadata": {},
   "outputs": [
    {
     "data": {
      "text/plain": [
       "120"
      ]
     },
     "execution_count": 16,
     "metadata": {},
     "output_type": "execute_result"
    }
   ],
   "source": [
    "len(X_train)"
   ]
  },
  {
   "cell_type": "code",
   "execution_count": 17,
   "id": "7a3fe23b",
   "metadata": {},
   "outputs": [
    {
     "data": {
      "text/plain": [
       "30"
      ]
     },
     "execution_count": 17,
     "metadata": {},
     "output_type": "execute_result"
    }
   ],
   "source": [
    "len(X_test)"
   ]
  },
  {
   "cell_type": "markdown",
   "id": "071febd7",
   "metadata": {},
   "source": [
    "## TRAIN THE LOGISTIC REGRESSION MODEL (FOR MULTICLASS CLASSIFICATION) "
   ]
  },
  {
   "cell_type": "code",
   "execution_count": 19,
   "id": "0219cba6",
   "metadata": {},
   "outputs": [],
   "source": [
    "model = LogisticRegression()"
   ]
  },
  {
   "cell_type": "code",
   "execution_count": 20,
   "id": "f42b1bea",
   "metadata": {},
   "outputs": [
    {
     "name": "stderr",
     "output_type": "stream",
     "text": [
      "c:\\users\\ayush\\appdata\\local\\programs\\python\\python37\\lib\\site-packages\\sklearn\\linear_model\\_logistic.py:765: ConvergenceWarning: lbfgs failed to converge (status=1):\n",
      "STOP: TOTAL NO. of ITERATIONS REACHED LIMIT.\n",
      "\n",
      "Increase the number of iterations (max_iter) or scale the data as shown in:\n",
      "    https://scikit-learn.org/stable/modules/preprocessing.html\n",
      "Please also refer to the documentation for alternative solver options:\n",
      "    https://scikit-learn.org/stable/modules/linear_model.html#logistic-regression\n",
      "  extra_warning_msg=_LOGISTIC_SOLVER_CONVERGENCE_MSG)\n"
     ]
    },
    {
     "data": {
      "text/plain": [
       "LogisticRegression()"
      ]
     },
     "execution_count": 20,
     "metadata": {},
     "output_type": "execute_result"
    }
   ],
   "source": [
    "model.fit(X_train,y_train)"
   ]
  },
  {
   "cell_type": "markdown",
   "id": "9c90bc52",
   "metadata": {},
   "source": [
    "### TEST THE ACCURACY OF THE MODEL"
   ]
  },
  {
   "cell_type": "code",
   "execution_count": 21,
   "id": "581defab",
   "metadata": {},
   "outputs": [
    {
     "data": {
      "text/plain": [
       "0.9666666666666667"
      ]
     },
     "execution_count": 21,
     "metadata": {},
     "output_type": "execute_result"
    }
   ],
   "source": [
    "model.score(X_test,y_test)"
   ]
  },
  {
   "cell_type": "code",
   "execution_count": 26,
   "id": "3d848a80",
   "metadata": {},
   "outputs": [
    {
     "data": {
      "text/plain": [
       "1"
      ]
     },
     "execution_count": 26,
     "metadata": {},
     "output_type": "execute_result"
    }
   ],
   "source": [
    "# EXPECTED CATEGORY = Versicolour\n",
    "iris.target[67] "
   ]
  },
  {
   "cell_type": "code",
   "execution_count": 28,
   "id": "a0588d94",
   "metadata": {},
   "outputs": [
    {
     "data": {
      "text/plain": [
       "array([1])"
      ]
     },
     "execution_count": 28,
     "metadata": {},
     "output_type": "execute_result"
    }
   ],
   "source": [
    "# RESULTANT CATEGORY = Versicolour\n",
    "model.predict([iris.data[67]])"
   ]
  },
  {
   "cell_type": "markdown",
   "id": "675a2f93",
   "metadata": {},
   "source": [
    "### USE THE CONFUSION MATRIX AND SEABORN'S HEATMAP TO CHECK THE VALUES FOR EACH INPUT"
   ]
  },
  {
   "cell_type": "code",
   "execution_count": 29,
   "id": "30872293",
   "metadata": {},
   "outputs": [],
   "source": [
    "# BUT BEFORE THAT WE GET ALL THE PREDICTED VALUES\n",
    "y_pred = model.predict(X_test)"
   ]
  },
  {
   "cell_type": "code",
   "execution_count": 30,
   "id": "17f8565b",
   "metadata": {},
   "outputs": [
    {
     "data": {
      "text/plain": [
       "array([[ 8,  0,  0],\n",
       "       [ 0,  9,  1],\n",
       "       [ 0,  0, 12]], dtype=int64)"
      ]
     },
     "execution_count": 30,
     "metadata": {},
     "output_type": "execute_result"
    }
   ],
   "source": [
    "CM = confusion_matrix(y_test,y_pred)\n",
    "\n",
    "CM"
   ]
  },
  {
   "cell_type": "code",
   "execution_count": 32,
   "id": "cb7616b1",
   "metadata": {},
   "outputs": [
    {
     "data": {
      "text/plain": [
       "Text(33.0, 0.5, 'TRUTH')"
      ]
     },
     "execution_count": 32,
     "metadata": {},
     "output_type": "execute_result"
    },
    {
     "data": {
      "image/png": "[encoded data removed]",
      "text/plain": [
       "<Figure size 432x288 with 2 Axes>"
      ]
     },
     "metadata": {
      "needs_background": "light"
     },
     "output_type": "display_data"
    }
   ],
   "source": [
    "# plt.figure(figsize=(10,7))\n",
    "\n",
    "sn.heatmap(CM,annot=True)\n",
    "\n",
    "plt.xlabel('PREDICTED')\n",
    "plt.ylabel('TRUTH')"
   ]
  },
  {
   "cell_type": "code",
   "execution_count": 33,
   "id": "2b548778",
   "metadata": {},
   "outputs": [
    {
     "data": {
      "text/plain": [
       "'D:/hr/PRs/JUPYTER/NOTEBOOKS'"
      ]
     },
     "execution_count": 33,
     "metadata": {},
     "output_type": "execute_result"
    }
   ],
   "source": [
    "s= %pwd\n",
    "\n",
    "s.replace('\\\\','/')"
   ]
  },
  {
   "cell_type": "code",
   "execution_count": null,
   "id": "9b0cb785",
   "metadata": {},
   "outputs": [],
   "source": []
  }
 ],
 "metadata": {
  "kernelspec": {
   "display_name": "Python 3",
   "language": "python",
   "name": "python3"
  },
  "language_info": {
   "codemirror_mode": {
    "name": "ipython",
    "version": 3
   },
   "file_extension": ".py",
   "mimetype": "text/x-python",
   "name": "python",
   "nbconvert_exporter": "python",
   "pygments_lexer": "ipython3",
   "version": "3.7.9"
  }
 },
 "nbformat": 4,
 "nbformat_minor": 5
}
